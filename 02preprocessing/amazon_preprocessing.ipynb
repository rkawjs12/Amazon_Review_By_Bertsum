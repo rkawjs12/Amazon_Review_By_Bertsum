{
 "cells": [
  {
   "cell_type": "markdown",
   "metadata": {},
   "source": [
    "# 전처리"
   ]
  },
  {
   "cell_type": "markdown",
   "metadata": {},
   "source": [
    "### 데이터 가져오기"
   ]
  },
  {
   "cell_type": "code",
   "execution_count": 25,
   "metadata": {},
   "outputs": [
    {
     "ename": "UnicodeDecodeError",
     "evalue": "'utf-8' codec can't decode bytes in position 80360-80361: invalid continuation byte",
     "output_type": "error",
     "traceback": [
      "\u001b[0;31m---------------------------------------------------------------------------\u001b[0m",
      "\u001b[0;31mUnicodeDecodeError\u001b[0m                        Traceback (most recent call last)",
      "\u001b[0;32m<ipython-input-25-541a0e42a986>\u001b[0m in \u001b[0;36m<module>\u001b[0;34m\u001b[0m\n\u001b[1;32m      1\u001b[0m \u001b[0;32mwith\u001b[0m \u001b[0mopen\u001b[0m\u001b[0;34m(\u001b[0m\u001b[0;34m'data/echodot_sample.csv'\u001b[0m\u001b[0;34m,\u001b[0m \u001b[0mencoding\u001b[0m\u001b[0;34m=\u001b[0m\u001b[0;34m\"utf8\"\u001b[0m\u001b[0;34m)\u001b[0m \u001b[0;32mas\u001b[0m \u001b[0mf\u001b[0m\u001b[0;34m:\u001b[0m\u001b[0;34m\u001b[0m\u001b[0;34m\u001b[0m\u001b[0m\n\u001b[0;32m----> 2\u001b[0;31m     \u001b[0mtext\u001b[0m \u001b[0;34m=\u001b[0m \u001b[0mf\u001b[0m\u001b[0;34m.\u001b[0m\u001b[0mread\u001b[0m\u001b[0;34m(\u001b[0m\u001b[0;34m)\u001b[0m\u001b[0;34m.\u001b[0m\u001b[0mstrip\u001b[0m\u001b[0;34m(\u001b[0m\u001b[0;34m)\u001b[0m\u001b[0;34m\u001b[0m\u001b[0;34m\u001b[0m\u001b[0m\n\u001b[0m\u001b[1;32m      3\u001b[0m     \u001b[0mprint\u001b[0m\u001b[0;34m(\u001b[0m\u001b[0mtext\u001b[0m\u001b[0;34m[\u001b[0m\u001b[0;34m:\u001b[0m\u001b[0;36m100\u001b[0m\u001b[0;34m]\u001b[0m\u001b[0;34m)\u001b[0m\u001b[0;34m\u001b[0m\u001b[0;34m\u001b[0m\u001b[0m\n",
      "\u001b[0;32m/anaconda3/lib/python3.7/codecs.py\u001b[0m in \u001b[0;36mdecode\u001b[0;34m(self, input, final)\u001b[0m\n\u001b[1;32m    320\u001b[0m         \u001b[0;31m# decode input (taking the buffer into account)\u001b[0m\u001b[0;34m\u001b[0m\u001b[0;34m\u001b[0m\u001b[0;34m\u001b[0m\u001b[0m\n\u001b[1;32m    321\u001b[0m         \u001b[0mdata\u001b[0m \u001b[0;34m=\u001b[0m \u001b[0mself\u001b[0m\u001b[0;34m.\u001b[0m\u001b[0mbuffer\u001b[0m \u001b[0;34m+\u001b[0m \u001b[0minput\u001b[0m\u001b[0;34m\u001b[0m\u001b[0;34m\u001b[0m\u001b[0m\n\u001b[0;32m--> 322\u001b[0;31m         \u001b[0;34m(\u001b[0m\u001b[0mresult\u001b[0m\u001b[0;34m,\u001b[0m \u001b[0mconsumed\u001b[0m\u001b[0;34m)\u001b[0m \u001b[0;34m=\u001b[0m \u001b[0mself\u001b[0m\u001b[0;34m.\u001b[0m\u001b[0m_buffer_decode\u001b[0m\u001b[0;34m(\u001b[0m\u001b[0mdata\u001b[0m\u001b[0;34m,\u001b[0m \u001b[0mself\u001b[0m\u001b[0;34m.\u001b[0m\u001b[0merrors\u001b[0m\u001b[0;34m,\u001b[0m \u001b[0mfinal\u001b[0m\u001b[0;34m)\u001b[0m\u001b[0;34m\u001b[0m\u001b[0;34m\u001b[0m\u001b[0m\n\u001b[0m\u001b[1;32m    323\u001b[0m         \u001b[0;31m# keep undecoded input until the next call\u001b[0m\u001b[0;34m\u001b[0m\u001b[0;34m\u001b[0m\u001b[0;34m\u001b[0m\u001b[0m\n\u001b[1;32m    324\u001b[0m         \u001b[0mself\u001b[0m\u001b[0;34m.\u001b[0m\u001b[0mbuffer\u001b[0m \u001b[0;34m=\u001b[0m \u001b[0mdata\u001b[0m\u001b[0;34m[\u001b[0m\u001b[0mconsumed\u001b[0m\u001b[0;34m:\u001b[0m\u001b[0;34m]\u001b[0m\u001b[0;34m\u001b[0m\u001b[0;34m\u001b[0m\u001b[0m\n",
      "\u001b[0;31mUnicodeDecodeError\u001b[0m: 'utf-8' codec can't decode bytes in position 80360-80361: invalid continuation byte"
     ]
    }
   ],
   "source": [
    "with open('data/echodot_sample.csv', encoding=\"utf8\") as f:\n",
    "    text = f.read().strip()\n",
    "    print(text[:100])"
   ]
  },
  {
   "cell_type": "markdown",
   "metadata": {},
   "source": [
    "### 정규화(normalization)"
   ]
  },
  {
   "cell_type": "code",
   "execution_count": 2,
   "metadata": {},
   "outputs": [
    {
     "data": {
      "text/plain": [
       "' Sound quality is the best I ve heard on a speaker of this size     Definitely worth paying a little'"
      ]
     },
     "execution_count": 2,
     "metadata": {},
     "output_type": "execute_result"
    }
   ],
   "source": [
    "import re\n",
    "letters_only = re.sub('[^a-zA-Z]', ' ', text)\n",
    "letters_only[:100]"
   ]
  },
  {
   "cell_type": "code",
   "execution_count": 3,
   "metadata": {},
   "outputs": [
    {
     "name": "stdout",
     "output_type": "stream",
     "text": [
      "436\n"
     ]
    },
    {
     "data": {
      "text/plain": [
       "['sound', 'quality', 'is', 'the', 'best', 'i', 've', 'heard', 'on', 'a']"
      ]
     },
     "execution_count": 3,
     "metadata": {},
     "output_type": "execute_result"
    }
   ],
   "source": [
    "lower_case = letters_only.lower()\n",
    "words = lower_case.split()\n",
    "print(len(words))\n",
    "words[:10]"
   ]
  },
  {
   "cell_type": "markdown",
   "metadata": {},
   "source": [
    "### 불용어 제거(Stopwords removal)"
   ]
  },
  {
   "cell_type": "code",
   "execution_count": 6,
   "metadata": {},
   "outputs": [],
   "source": [
    "#pip install nltk"
   ]
  },
  {
   "cell_type": "code",
   "execution_count": 8,
   "metadata": {},
   "outputs": [],
   "source": [
    "import nltk"
   ]
  },
  {
   "cell_type": "code",
   "execution_count": 9,
   "metadata": {},
   "outputs": [
    {
     "name": "stderr",
     "output_type": "stream",
     "text": [
      "[nltk_data] Downloading package stopwords to\n",
      "[nltk_data]     /Users/songhannah/nltk_data...\n",
      "[nltk_data]   Package stopwords is already up-to-date!\n"
     ]
    },
    {
     "data": {
      "text/plain": [
       "True"
      ]
     },
     "execution_count": 9,
     "metadata": {},
     "output_type": "execute_result"
    }
   ],
   "source": [
    "nltk.download('stopwords')"
   ]
  },
  {
   "cell_type": "code",
   "execution_count": 10,
   "metadata": {},
   "outputs": [
    {
     "data": {
      "text/plain": [
       "['i', 'me', 'my', 'myself', 'we', 'our', 'ours', 'ourselves', 'you', \"you're\"]"
      ]
     },
     "execution_count": 10,
     "metadata": {},
     "output_type": "execute_result"
    }
   ],
   "source": [
    "import nltk\n",
    "from nltk.corpus import stopwords\n",
    "stopwords.words('english')[:10]"
   ]
  },
  {
   "cell_type": "code",
   "execution_count": 11,
   "metadata": {},
   "outputs": [
    {
     "name": "stdout",
     "output_type": "stream",
     "text": [
      "198\n"
     ]
    },
    {
     "data": {
      "text/plain": [
       "['sound',\n",
       " 'quality',\n",
       " 'best',\n",
       " 'heard',\n",
       " 'speaker',\n",
       " 'size',\n",
       " 'definitely',\n",
       " 'worth',\n",
       " 'paying',\n",
       " 'little']"
      ]
     },
     "execution_count": 11,
     "metadata": {},
     "output_type": "execute_result"
    }
   ],
   "source": [
    "words = [w for w in words if not w in stopwords.words('english')]\n",
    "print(len(words))\n",
    "words[:10]"
   ]
  },
  {
   "cell_type": "markdown",
   "metadata": {},
   "source": [
    "### 어간추출(stemming)"
   ]
  },
  {
   "cell_type": "code",
   "execution_count": 12,
   "metadata": {},
   "outputs": [
    {
     "name": "stdout",
     "output_type": "stream",
     "text": [
      "maximum\n",
      "The stemmed form of running is: run\n"
     ]
    }
   ],
   "source": [
    "stemmer = nltk.stem.PorterStemmer()\n",
    "print(stemmer.stem('maximum'))\n",
    "print(\"The stemmed form of running is: {}\".format(stemmer.stem(\"running\")))"
   ]
  },
  {
   "cell_type": "code",
   "execution_count": 13,
   "metadata": {},
   "outputs": [
    {
     "name": "stdout",
     "output_type": "stream",
     "text": [
      "maxim\n",
      "The stemmed form of running is: run\n"
     ]
    }
   ],
   "source": [
    "from nltk.stem.lancaster import LancasterStemmer\n",
    "lancaster_stemmer = LancasterStemmer()\n",
    "print(lancaster_stemmer.stem('maximum'))\n",
    "print(\"The stemmed form of running is: {}\".format(lancaster_stemmer.stem(\"running\")))"
   ]
  },
  {
   "cell_type": "code",
   "execution_count": 14,
   "metadata": {},
   "outputs": [
    {
     "data": {
      "text/plain": [
       "['sound',\n",
       " 'quality',\n",
       " 'best',\n",
       " 'heard',\n",
       " 'speaker',\n",
       " 'size',\n",
       " 'definitely',\n",
       " 'worth',\n",
       " 'paying',\n",
       " 'little']"
      ]
     },
     "execution_count": 14,
     "metadata": {},
     "output_type": "execute_result"
    }
   ],
   "source": [
    "words[:10]"
   ]
  },
  {
   "cell_type": "code",
   "execution_count": 15,
   "metadata": {},
   "outputs": [
    {
     "data": {
      "text/plain": [
       "['sound',\n",
       " 'qualiti',\n",
       " 'best',\n",
       " 'heard',\n",
       " 'speaker',\n",
       " 'size',\n",
       " 'definit',\n",
       " 'worth',\n",
       " 'pay',\n",
       " 'littl']"
      ]
     },
     "execution_count": 15,
     "metadata": {},
     "output_type": "execute_result"
    }
   ],
   "source": [
    "from nltk.stem.snowball import SnowballStemmer\n",
    "\n",
    "stemmer = SnowballStemmer('english')\n",
    "stemmed_words = [stemmer.stem(w) for w in words]\n",
    "\n",
    "stemmed_words[:10]"
   ]
  },
  {
   "cell_type": "markdown",
   "metadata": {},
   "source": [
    "### 음소표기(Lemmatization)"
   ]
  },
  {
   "cell_type": "code",
   "execution_count": 16,
   "metadata": {},
   "outputs": [
    {
     "name": "stderr",
     "output_type": "stream",
     "text": [
      "[nltk_data] Downloading package wordnet to\n",
      "[nltk_data]     /Users/songhannah/nltk_data...\n",
      "[nltk_data]   Package wordnet is already up-to-date!\n"
     ]
    },
    {
     "data": {
      "text/plain": [
       "True"
      ]
     },
     "execution_count": 16,
     "metadata": {},
     "output_type": "execute_result"
    }
   ],
   "source": [
    "nltk.download('wordnet')"
   ]
  },
  {
   "cell_type": "code",
   "execution_count": 17,
   "metadata": {},
   "outputs": [
    {
     "name": "stdout",
     "output_type": "stream",
     "text": [
      "fly\n",
      "fly\n"
     ]
    },
    {
     "data": {
      "text/plain": [
       "['sound',\n",
       " 'quality',\n",
       " 'best',\n",
       " 'heard',\n",
       " 'speaker',\n",
       " 'size',\n",
       " 'definitely',\n",
       " 'worth',\n",
       " 'paying',\n",
       " 'little',\n",
       " 'extra',\n",
       " 'one',\n",
       " 'nd',\n",
       " 'generation',\n",
       " 'model',\n",
       " 'going',\n",
       " 'discus',\n",
       " 'functionality',\n",
       " 'ton',\n",
       " 'info',\n",
       " 'already',\n",
       " 'one',\n",
       " 'important',\n",
       " 'note',\n",
       " 'set',\n",
       " 'alexa',\n",
       " 'app',\n",
       " 'phone',\n",
       " 'import',\n",
       " 'phone',\n",
       " 'contact',\n",
       " 'think',\n",
       " 'gave',\n",
       " 'permission',\n",
       " 'alexa',\n",
       " 'indeed',\n",
       " 'import',\n",
       " 'contact',\n",
       " 'may',\n",
       " 'read',\n",
       " 'story',\n",
       " 'without',\n",
       " 'knowledge',\n",
       " 'alexa',\n",
       " 'record',\n",
       " 'said',\n",
       " 'home',\n",
       " 'send',\n",
       " 'contact',\n",
       " 'yikes',\n",
       " 'want',\n",
       " 'kid',\n",
       " 'accidentally',\n",
       " 'send',\n",
       " 'message',\n",
       " 'call',\n",
       " 'people',\n",
       " 'contact',\n",
       " 'list',\n",
       " 'want',\n",
       " 'keep',\n",
       " 'contact',\n",
       " 'alexa',\n",
       " 'prevent',\n",
       " 'happening',\n",
       " 'installiing',\n",
       " 'alexa',\n",
       " 'app',\n",
       " 'phone',\n",
       " 'export',\n",
       " 'contact',\n",
       " 'file',\n",
       " 'save',\n",
       " 'later',\n",
       " 'go',\n",
       " 'back',\n",
       " 'phone',\n",
       " 'delete',\n",
       " 'contact',\n",
       " 'worry',\n",
       " 'import',\n",
       " 'back',\n",
       " 'later',\n",
       " 'install',\n",
       " 'alexa',\n",
       " 'app',\n",
       " 'phone',\n",
       " 'go',\n",
       " 'set',\n",
       " 'process',\n",
       " 'point',\n",
       " 'option',\n",
       " 'allow',\n",
       " 'alexa',\n",
       " 'automatically',\n",
       " 'import',\n",
       " 'addition',\n",
       " 'contact',\n",
       " 'please',\n",
       " 'disable',\n",
       " 'option',\n",
       " 'done',\n",
       " 'installation',\n",
       " 'notice',\n",
       " 'contact',\n",
       " 'alexa',\n",
       " 'app',\n",
       " 'import',\n",
       " 'contact',\n",
       " 'back',\n",
       " 'phonebook',\n",
       " 'using',\n",
       " 'file',\n",
       " 'initially',\n",
       " 'created',\n",
       " 'good',\n",
       " 'go',\n",
       " 'already',\n",
       " 'installed',\n",
       " 'app',\n",
       " 'want',\n",
       " 'delete',\n",
       " 'contact',\n",
       " 'alexa',\n",
       " 'late',\n",
       " 'simply',\n",
       " 'export',\n",
       " 'phone',\n",
       " 'contact',\n",
       " 'file',\n",
       " 'save',\n",
       " 'later',\n",
       " 'delete',\n",
       " 'contact',\n",
       " 'phone',\n",
       " 'open',\n",
       " 'alexa',\n",
       " 'app',\n",
       " 'click',\n",
       " 'contact',\n",
       " 'contact',\n",
       " 'page',\n",
       " 'click',\n",
       " 'import',\n",
       " 'contact',\n",
       " 'enable',\n",
       " 'moving',\n",
       " 'button',\n",
       " 'right',\n",
       " 'side',\n",
       " 'cause',\n",
       " 'alexa',\n",
       " 'replace',\n",
       " 'existing',\n",
       " 'contact',\n",
       " 'empty',\n",
       " 'phonebook',\n",
       " 'minute',\n",
       " 'alexa',\n",
       " 'contact',\n",
       " 'gone',\n",
       " 'go',\n",
       " 'back',\n",
       " 'disable',\n",
       " 'import',\n",
       " 'contact',\n",
       " 'prevent',\n",
       " 'alexa',\n",
       " 'importing',\n",
       " 'future',\n",
       " 'import',\n",
       " 'contact',\n",
       " 'file',\n",
       " 'created',\n",
       " 'back',\n",
       " 'phone',\n",
       " 'course',\n",
       " 'may',\n",
       " 'contact',\n",
       " 'want',\n",
       " 'use',\n",
       " 'alexa',\n",
       " 'simply',\n",
       " 'added',\n",
       " 'manually',\n",
       " 'clicking',\n",
       " 'add',\n",
       " 'contact',\n",
       " 'hope',\n",
       " 'info',\n",
       " 'helpful',\n",
       " 'able',\n",
       " 'find',\n",
       " 'easy',\n",
       " 'way',\n",
       " 'manage',\n",
       " 'alexa',\n",
       " 'contact']"
      ]
     },
     "execution_count": 17,
     "metadata": {},
     "output_type": "execute_result"
    }
   ],
   "source": [
    "from nltk.stem import WordNetLemmatizer\n",
    "wordnet_lemmatizer = WordNetLemmatizer()\n",
    "\n",
    "print(wordnet_lemmatizer.lemmatize('fly'))\n",
    "print(wordnet_lemmatizer.lemmatize('flies'))\n",
    "\n",
    "lemm_words = [wordnet_lemmatizer.lemmatize(w) for w in words]\n",
    "lemm_words"
   ]
  },
  {
   "cell_type": "markdown",
   "metadata": {},
   "source": [
    "# 피처 엔지니어링"
   ]
  },
  {
   "cell_type": "markdown",
   "metadata": {},
   "source": [
    "### ngrams"
   ]
  },
  {
   "cell_type": "code",
   "execution_count": 22,
   "metadata": {},
   "outputs": [],
   "source": [
    "from nltk import ngrams"
   ]
  },
  {
   "cell_type": "code",
   "execution_count": 23,
   "metadata": {},
   "outputs": [
    {
     "data": {
      "text/plain": [
       "' Sound quality is the best I ve heard on a speaker of this size     Definitely worth paying a little'"
      ]
     },
     "execution_count": 23,
     "metadata": {},
     "output_type": "execute_result"
    }
   ],
   "source": [
    "sentence = re.sub('[^a-zA-Z]', ' ', text)\n",
    "sentence[:100]"
   ]
  },
  {
   "cell_type": "code",
   "execution_count": 24,
   "metadata": {},
   "outputs": [],
   "source": [
    "n=4\n",
    "ngramsres = ngrams(sentence.split(), n)"
   ]
  },
  {
   "cell_type": "code",
   "execution_count": 85,
   "metadata": {},
   "outputs": [
    {
     "name": "stdout",
     "output_type": "stream",
     "text": [
      "('Sound', 'quality', 'is', 'the')\n",
      "('quality', 'is', 'the', 'best')\n",
      "('is', 'the', 'best', 'I')\n",
      "('the', 'best', 'I', 've')\n",
      "('best', 'I', 've', 'heard')\n",
      "('I', 've', 'heard', 'on')\n",
      "('ve', 'heard', 'on', 'a')\n",
      "('heard', 'on', 'a', 'speaker')\n",
      "('on', 'a', 'speaker', 'of')\n",
      "('a', 'speaker', 'of', 'this')\n",
      "('speaker', 'of', 'this', 'size')\n",
      "('of', 'this', 'size', 'Definitely')\n",
      "('this', 'size', 'Definitely', 'worth')\n",
      "('size', 'Definitely', 'worth', 'paying')\n",
      "('Definitely', 'worth', 'paying', 'a')\n",
      "('worth', 'paying', 'a', 'little')\n",
      "('paying', 'a', 'little', 'extra')\n",
      "('a', 'little', 'extra', 'for')\n",
      "('little', 'extra', 'for', 'this')\n",
      "('extra', 'for', 'this', 'one')\n",
      "('for', 'this', 'one', 'over')\n",
      "('this', 'one', 'over', 'the')\n",
      "('one', 'over', 'the', 'nd')\n",
      "('over', 'the', 'nd', 'generation')\n",
      "('the', 'nd', 'generation', 'model')\n",
      "('nd', 'generation', 'model', 'I')\n",
      "('generation', 'model', 'I', 'm')\n",
      "('model', 'I', 'm', 'not')\n",
      "('I', 'm', 'not', 'going')\n",
      "('m', 'not', 'going', 'to')\n",
      "('not', 'going', 'to', 'discuss')\n",
      "('going', 'to', 'discuss', 'the')\n",
      "('to', 'discuss', 'the', 'functionality')\n",
      "('discuss', 'the', 'functionality', 'as')\n",
      "('the', 'functionality', 'as', 'there')\n",
      "('functionality', 'as', 'there', 's')\n",
      "('as', 'there', 's', 'tons')\n",
      "('there', 's', 'tons', 'of')\n",
      "('s', 'tons', 'of', 'info')\n",
      "('tons', 'of', 'info', 'already')\n",
      "('of', 'info', 'already', 'out')\n",
      "('info', 'already', 'out', 'there')\n",
      "('already', 'out', 'there', 'One')\n",
      "('out', 'there', 'One', 'important')\n",
      "('there', 'One', 'important', 'note')\n",
      "('One', 'important', 'note', 'If')\n",
      "('important', 'note', 'If', 'you')\n",
      "('note', 'If', 'you', 'set')\n",
      "('If', 'you', 'set', 'up')\n",
      "('you', 'set', 'up', 'the')\n",
      "('set', 'up', 'the', 'Alexa')\n",
      "('up', 'the', 'Alexa', 'app')\n",
      "('the', 'Alexa', 'app', 'on')\n",
      "('Alexa', 'app', 'on', 'your')\n",
      "('app', 'on', 'your', 'phone')\n",
      "('on', 'your', 'phone', 'IT')\n",
      "('your', 'phone', 'IT', 'WILL')\n",
      "('phone', 'IT', 'WILL', 'IMPORT')\n",
      "('IT', 'WILL', 'IMPORT', 'ALL')\n",
      "('WILL', 'IMPORT', 'ALL', 'OF')\n",
      "('IMPORT', 'ALL', 'OF', 'YOUR')\n",
      "('ALL', 'OF', 'YOUR', 'PHONE')\n",
      "('OF', 'YOUR', 'PHONE', 'CONTACTS')\n",
      "('YOUR', 'PHONE', 'CONTACTS', 'I')\n",
      "('PHONE', 'CONTACTS', 'I', 'didn')\n",
      "('CONTACTS', 'I', 'didn', 't')\n",
      "('I', 'didn', 't', 'think')\n",
      "('didn', 't', 'think', 'I')\n",
      "('t', 'think', 'I', 'gave')\n",
      "('think', 'I', 'gave', 'it')\n",
      "('I', 'gave', 'it', 'permission')\n",
      "('gave', 'it', 'permission', 'to')\n",
      "('it', 'permission', 'to', 'do')\n",
      "('permission', 'to', 'do', 'so')\n",
      "('to', 'do', 'so', 'but')\n",
      "('do', 'so', 'but', 'Alexa')\n",
      "('so', 'but', 'Alexa', 'did')\n",
      "('but', 'Alexa', 'did', 'indeed')\n",
      "('Alexa', 'did', 'indeed', 'import')\n",
      "('did', 'indeed', 'import', 'my')\n",
      "('indeed', 'import', 'my', 'contacts')\n",
      "('import', 'my', 'contacts', 'You')\n",
      "('my', 'contacts', 'You', 'may')\n",
      "('contacts', 'You', 'may', 'have')\n",
      "('You', 'may', 'have', 'read')\n",
      "('may', 'have', 'read', 'stories')\n",
      "('have', 'read', 'stories', 'how')\n",
      "('read', 'stories', 'how', 'WITHOUT')\n",
      "('stories', 'how', 'WITHOUT', 'YOUR')\n",
      "('how', 'WITHOUT', 'YOUR', 'KNOWLEDGE')\n",
      "('WITHOUT', 'YOUR', 'KNOWLEDGE', 'Alexa')\n",
      "('YOUR', 'KNOWLEDGE', 'Alexa', 'can')\n",
      "('KNOWLEDGE', 'Alexa', 'can', 'record')\n",
      "('Alexa', 'can', 'record', 'what')\n",
      "('can', 'record', 'what', 's')\n",
      "('record', 'what', 's', 'being')\n",
      "('what', 's', 'being', 'said')\n",
      "('s', 'being', 'said', 'in')\n",
      "('being', 'said', 'in', 'your')\n",
      "('said', 'in', 'your', 'home')\n",
      "('in', 'your', 'home', 'and')\n",
      "('your', 'home', 'and', 'then')\n",
      "('home', 'and', 'then', 'send')\n",
      "('and', 'then', 'send', 'it')\n",
      "('then', 'send', 'it', 'to')\n",
      "('send', 'it', 'to', 'ANY')\n",
      "('it', 'to', 'ANY', 'or')\n",
      "('to', 'ANY', 'or', 'ALL')\n",
      "('ANY', 'or', 'ALL', 'of')\n",
      "('or', 'ALL', 'of', 'those')\n",
      "('ALL', 'of', 'those', 'contacts')\n",
      "('of', 'those', 'contacts', 'Yikes')\n",
      "('those', 'contacts', 'Yikes', 'And')\n",
      "('contacts', 'Yikes', 'And', 'I')\n",
      "('Yikes', 'And', 'I', 'won')\n",
      "('And', 'I', 'won', 't')\n",
      "('I', 'won', 't', 'want')\n",
      "('won', 't', 'want', 'any')\n",
      "('t', 'want', 'any', 'of')\n",
      "('want', 'any', 'of', 'my')\n",
      "('any', 'of', 'my', 'kids')\n",
      "('of', 'my', 'kids', 'to')\n",
      "('my', 'kids', 'to', 'accidentally')\n",
      "('kids', 'to', 'accidentally', 'send')\n",
      "('to', 'accidentally', 'send', 'messages')\n",
      "('accidentally', 'send', 'messages', 'to')\n",
      "('send', 'messages', 'to', 'or')\n",
      "('messages', 'to', 'or', 'call')\n",
      "('to', 'or', 'call', 'people')\n",
      "('or', 'call', 'people', 'on')\n",
      "('call', 'people', 'on', 'my')\n",
      "('people', 'on', 'my', 'contact')\n",
      "('on', 'my', 'contact', 'list')\n",
      "('my', 'contact', 'list', 'So')\n",
      "('contact', 'list', 'So', 'if')\n",
      "('list', 'So', 'if', 'you')\n",
      "('So', 'if', 'you', 'want')\n",
      "('if', 'you', 'want', 'to')\n",
      "('you', 'want', 'to', 'keep')\n",
      "('want', 'to', 'keep', 'your')\n",
      "('to', 'keep', 'your', 'contacts')\n",
      "('keep', 'your', 'contacts', 'from')\n",
      "('your', 'contacts', 'from', 'Alexa')\n",
      "('contacts', 'from', 'Alexa', 'and')\n",
      "('from', 'Alexa', 'and', 'prevent')\n",
      "('Alexa', 'and', 'prevent', 'that')\n",
      "('and', 'prevent', 'that', 'from')\n",
      "('prevent', 'that', 'from', 'happening')\n",
      "('that', 'from', 'happening', 'here')\n",
      "('from', 'happening', 'here', 's')\n",
      "('happening', 'here', 's', 'how')\n",
      "('here', 's', 'how', 'I')\n",
      "('s', 'how', 'I', 'did')\n",
      "('how', 'I', 'did', 'it')\n",
      "('I', 'did', 'it', 'Before')\n",
      "('did', 'it', 'Before', 'installiing')\n",
      "('it', 'Before', 'installiing', 'the')\n",
      "('Before', 'installiing', 'the', 'Alexa')\n",
      "('installiing', 'the', 'Alexa', 'app')\n",
      "('the', 'Alexa', 'app', 'on')\n",
      "('Alexa', 'app', 'on', 'your')\n",
      "('app', 'on', 'your', 'phone')\n",
      "('on', 'your', 'phone', 'export')\n",
      "('your', 'phone', 'export', 'your')\n",
      "('phone', 'export', 'your', 'contacts')\n",
      "('export', 'your', 'contacts', 'to')\n",
      "('your', 'contacts', 'to', 'a')\n",
      "('contacts', 'to', 'a', 'file')\n",
      "('to', 'a', 'file', 'and')\n",
      "('a', 'file', 'and', 'save')\n",
      "('file', 'and', 'save', 'it')\n",
      "('and', 'save', 'it', 'for')\n",
      "('save', 'it', 'for', 'later')\n",
      "('it', 'for', 'later', 'Then')\n",
      "('for', 'later', 'Then', 'go')\n",
      "('later', 'Then', 'go', 'back')\n",
      "('Then', 'go', 'back', 'to')\n",
      "('go', 'back', 'to', 'the')\n",
      "('back', 'to', 'the', 'phone')\n",
      "('to', 'the', 'phone', 'and')\n",
      "('the', 'phone', 'and', 'delete')\n",
      "('phone', 'and', 'delete', 'those')\n",
      "('and', 'delete', 'those', 'contacts')\n",
      "('delete', 'those', 'contacts', 'don')\n",
      "('those', 'contacts', 'don', 't')\n",
      "('contacts', 'don', 't', 'worry')\n",
      "('don', 't', 'worry', 'you')\n",
      "('t', 'worry', 'you', 'll')\n",
      "('worry', 'you', 'll', 'import')\n",
      "('you', 'll', 'import', 'them')\n",
      "('ll', 'import', 'them', 'back')\n",
      "('import', 'them', 'back', 'in')\n",
      "('them', 'back', 'in', 'later')\n",
      "('back', 'in', 'later', 'Now')\n",
      "('in', 'later', 'Now', 'install')\n",
      "('later', 'Now', 'install', 'the')\n",
      "('Now', 'install', 'the', 'Alexa')\n",
      "('install', 'the', 'Alexa', 'app')\n",
      "('the', 'Alexa', 'app', 'on')\n",
      "('Alexa', 'app', 'on', 'your')\n",
      "('app', 'on', 'your', 'phone')\n",
      "('on', 'your', 'phone', 'and')\n",
      "('your', 'phone', 'and', 'go')\n",
      "('phone', 'and', 'go', 'through')\n",
      "('and', 'go', 'through', 'the')\n",
      "('go', 'through', 'the', 'set')\n",
      "('through', 'the', 'set', 'up')\n",
      "('the', 'set', 'up', 'process')\n",
      "('set', 'up', 'process', 'At')\n",
      "('up', 'process', 'At', 'some')\n",
      "('process', 'At', 'some', 'point')\n",
      "('At', 'some', 'point', 'you')\n",
      "('some', 'point', 'you', 'll')\n",
      "('point', 'you', 'll', 'have')\n",
      "('you', 'll', 'have', 'the')\n",
      "('ll', 'have', 'the', 'option')\n",
      "('have', 'the', 'option', 'to')\n",
      "('the', 'option', 'to', 'allow')\n",
      "('option', 'to', 'allow', 'Alexa')\n",
      "('to', 'allow', 'Alexa', 'to')\n",
      "('allow', 'Alexa', 'to', 'automatically')\n",
      "('Alexa', 'to', 'automatically', 'import')\n",
      "('to', 'automatically', 'import', 'any')\n",
      "('automatically', 'import', 'any', 'additions')\n",
      "('import', 'any', 'additions', 'to')\n",
      "('any', 'additions', 'to', 'your')\n",
      "('additions', 'to', 'your', 'contacts')\n",
      "('to', 'your', 'contacts', 'Please')\n",
      "('your', 'contacts', 'Please', 'disable')\n",
      "('contacts', 'Please', 'disable', 'that')\n",
      "('Please', 'disable', 'that', 'option')\n",
      "('disable', 'that', 'option', 'After')\n",
      "('that', 'option', 'After', 'you')\n",
      "('option', 'After', 'you', 're')\n",
      "('After', 'you', 're', 'done')\n",
      "('you', 're', 'done', 'with')\n",
      "('re', 'done', 'with', 'the')\n",
      "('done', 'with', 'the', 'installation')\n",
      "('with', 'the', 'installation', 'you')\n",
      "('the', 'installation', 'you', 'll')\n",
      "('installation', 'you', 'll', 'notice')\n",
      "('you', 'll', 'notice', 'there')\n",
      "('ll', 'notice', 'there', 'are')\n",
      "('notice', 'there', 'are', 'no')\n",
      "('there', 'are', 'no', 'contacts')\n",
      "('are', 'no', 'contacts', 'in')\n",
      "('no', 'contacts', 'in', 'your')\n",
      "('contacts', 'in', 'your', 'Alexa')\n",
      "('in', 'your', 'Alexa', 'app')\n",
      "('your', 'Alexa', 'app', 'Now')\n",
      "('Alexa', 'app', 'Now', 'you')\n",
      "('app', 'Now', 'you', 'can')\n",
      "('Now', 'you', 'can', 'import')\n",
      "('you', 'can', 'import', 'your')\n",
      "('can', 'import', 'your', 'contacts')\n",
      "('import', 'your', 'contacts', 'back')\n",
      "('your', 'contacts', 'back', 'into')\n",
      "('contacts', 'back', 'into', 'your')\n",
      "('back', 'into', 'your', 'phonebook')\n",
      "('into', 'your', 'phonebook', 'using')\n",
      "('your', 'phonebook', 'using', 'the')\n",
      "('phonebook', 'using', 'the', 'file')\n",
      "('using', 'the', 'file', 'that')\n",
      "('the', 'file', 'that', 'you')\n",
      "('file', 'that', 'you', 'initially')\n",
      "('that', 'you', 'initially', 'created')\n",
      "('you', 'initially', 'created', 'and')\n",
      "('initially', 'created', 'and', 'you')\n",
      "('created', 'and', 'you', 're')\n",
      "('and', 'you', 're', 'good')\n",
      "('you', 're', 'good', 'to')\n",
      "('re', 'good', 'to', 'go')\n",
      "('good', 'to', 'go', 'If')\n",
      "('to', 'go', 'If', 'you')\n",
      "('go', 'If', 'you', 'already')\n",
      "('If', 'you', 'already', 'installed')\n",
      "('you', 'already', 'installed', 'the')\n",
      "('already', 'installed', 'the', 'app')\n",
      "('installed', 'the', 'app', 'but')\n",
      "('the', 'app', 'but', 'want')\n",
      "('app', 'but', 'want', 'to')\n",
      "('but', 'want', 'to', 'delete')\n",
      "('want', 'to', 'delete', 'your')\n",
      "('to', 'delete', 'your', 'contacts')\n",
      "('delete', 'your', 'contacts', 'from')\n",
      "('your', 'contacts', 'from', 'Alexa')\n",
      "('contacts', 'from', 'Alexa', 'it')\n",
      "('from', 'Alexa', 'it', 's')\n",
      "('Alexa', 'it', 's', 'not')\n",
      "('it', 's', 'not', 'too')\n",
      "('s', 'not', 'too', 'late')\n",
      "('not', 'too', 'late', 'Simply')\n",
      "('too', 'late', 'Simply', 'export')\n",
      "('late', 'Simply', 'export', 'your')\n",
      "('Simply', 'export', 'your', 'phone')\n",
      "('export', 'your', 'phone', 'contacts')\n",
      "('your', 'phone', 'contacts', 'to')\n",
      "('phone', 'contacts', 'to', 'a')\n",
      "('contacts', 'to', 'a', 'file')\n",
      "('to', 'a', 'file', 'and')\n",
      "('a', 'file', 'and', 'save')\n",
      "('file', 'and', 'save', 'for')\n",
      "('and', 'save', 'for', 'later')\n",
      "('save', 'for', 'later', 'Then')\n",
      "('for', 'later', 'Then', 'delete')\n",
      "('later', 'Then', 'delete', 'the')\n",
      "('Then', 'delete', 'the', 'contacts')\n",
      "('delete', 'the', 'contacts', 'from')\n",
      "('the', 'contacts', 'from', 'your')\n",
      "('contacts', 'from', 'your', 'phone')\n",
      "('from', 'your', 'phone', 'Now')\n",
      "('your', 'phone', 'Now', 'open')\n",
      "('phone', 'Now', 'open', 'the')\n",
      "('Now', 'open', 'the', 'Alexa')\n",
      "('open', 'the', 'Alexa', 'app')\n",
      "('the', 'Alexa', 'app', 'and')\n",
      "('Alexa', 'app', 'and', 'click')\n",
      "('app', 'and', 'click', 'Contacts')\n",
      "('and', 'click', 'Contacts', 'On')\n",
      "('click', 'Contacts', 'On', 'the')\n",
      "('Contacts', 'On', 'the', 'Contacts')\n",
      "('On', 'the', 'Contacts', 'page')\n",
      "('the', 'Contacts', 'page', 'click')\n",
      "('Contacts', 'page', 'click', 'on')\n",
      "('page', 'click', 'on', 'Import')\n",
      "('click', 'on', 'Import', 'Contacts')\n",
      "('on', 'Import', 'Contacts', 'and')\n",
      "('Import', 'Contacts', 'and', 'enable')\n",
      "('Contacts', 'and', 'enable', 'it')\n",
      "('and', 'enable', 'it', 'by')\n",
      "('enable', 'it', 'by', 'moving')\n",
      "('it', 'by', 'moving', 'the')\n",
      "('by', 'moving', 'the', 'button')\n",
      "('moving', 'the', 'button', 'to')\n",
      "('the', 'button', 'to', 'the')\n",
      "('button', 'to', 'the', 'right')\n",
      "('to', 'the', 'right', 'side')\n",
      "('the', 'right', 'side', 'This')\n",
      "('right', 'side', 'This', 'will')\n",
      "('side', 'This', 'will', 'cause')\n",
      "('This', 'will', 'cause', 'Alexa')\n",
      "('will', 'cause', 'Alexa', 'to')\n",
      "('cause', 'Alexa', 'to', 'replace')\n",
      "('Alexa', 'to', 'replace', 'your')\n",
      "('to', 'replace', 'your', 'existing')\n",
      "('replace', 'your', 'existing', 'contacts')\n",
      "('your', 'existing', 'contacts', 'with')\n",
      "('existing', 'contacts', 'with', 'the')\n",
      "('contacts', 'with', 'the', 'now')\n",
      "('with', 'the', 'now', 'empty')\n",
      "('the', 'now', 'empty', 'phonebook')\n",
      "('now', 'empty', 'phonebook', 'After')\n",
      "('empty', 'phonebook', 'After', 'a')\n",
      "('phonebook', 'After', 'a', 'few')\n",
      "('After', 'a', 'few', 'minutes')\n",
      "('a', 'few', 'minutes', 'your')\n",
      "('few', 'minutes', 'your', 'Alexa')\n",
      "('minutes', 'your', 'Alexa', 'contacts')\n",
      "('your', 'Alexa', 'contacts', 'will')\n",
      "('Alexa', 'contacts', 'will', 'be')\n",
      "('contacts', 'will', 'be', 'gone')\n",
      "('will', 'be', 'gone', 'Go')\n",
      "('be', 'gone', 'Go', 'back')\n",
      "('gone', 'Go', 'back', 'and')\n",
      "('Go', 'back', 'and', 'disable')\n",
      "('back', 'and', 'disable', 'Import')\n",
      "('and', 'disable', 'Import', 'Contacts')\n",
      "('disable', 'Import', 'Contacts', 'to')\n",
      "('Import', 'Contacts', 'to', 'prevent')\n",
      "('Contacts', 'to', 'prevent', 'Alexa')\n",
      "('to', 'prevent', 'Alexa', 'from')\n",
      "('prevent', 'Alexa', 'from', 'importing')\n",
      "('Alexa', 'from', 'importing', 'them')\n",
      "('from', 'importing', 'them', 'in')\n",
      "('importing', 'them', 'in', 'the')\n",
      "('them', 'in', 'the', 'future')\n",
      "('in', 'the', 'future', 'You')\n",
      "('the', 'future', 'You', 'can')\n",
      "('future', 'You', 'can', 'now')\n",
      "('You', 'can', 'now', 'import')\n",
      "('can', 'now', 'import', 'the')\n",
      "('now', 'import', 'the', 'contact')\n",
      "('import', 'the', 'contact', 'file')\n",
      "('the', 'contact', 'file', 'that')\n",
      "('contact', 'file', 'that', 'you')\n",
      "('file', 'that', 'you', 'created')\n",
      "('that', 'you', 'created', 'back')\n",
      "('you', 'created', 'back', 'into')\n",
      "('created', 'back', 'into', 'your')\n",
      "('back', 'into', 'your', 'phone')\n",
      "('into', 'your', 'phone', 'Of')\n",
      "('your', 'phone', 'Of', 'course')\n",
      "('phone', 'Of', 'course', 'there')\n",
      "('Of', 'course', 'there', 'may')\n",
      "('course', 'there', 'may', 'be')\n",
      "('there', 'may', 'be', 'some')\n",
      "('may', 'be', 'some', 'contacts')\n",
      "('be', 'some', 'contacts', 'you')\n",
      "('some', 'contacts', 'you', 'do')\n",
      "('contacts', 'you', 'do', 'want')\n",
      "('you', 'do', 'want', 'to')\n",
      "('do', 'want', 'to', 'use')\n",
      "('want', 'to', 'use', 'with')\n",
      "('to', 'use', 'with', 'Alexa')\n",
      "('use', 'with', 'Alexa', 'I')\n",
      "('with', 'Alexa', 'I', 'simply')\n",
      "('Alexa', 'I', 'simply', 'added')\n",
      "('I', 'simply', 'added', 'them')\n",
      "('simply', 'added', 'them', 'manually')\n",
      "('added', 'them', 'manually', 'by')\n",
      "('them', 'manually', 'by', 'clicking')\n",
      "('manually', 'by', 'clicking', 'Add')\n",
      "('by', 'clicking', 'Add', 'Contact')\n",
      "('clicking', 'Add', 'Contact', 'I')\n",
      "('Add', 'Contact', 'I', 'hope')\n",
      "('Contact', 'I', 'hope', 'this')\n",
      "('I', 'hope', 'this', 'info')\n",
      "('hope', 'this', 'info', 'is')\n",
      "('this', 'info', 'is', 'helpful')\n",
      "('info', 'is', 'helpful', 'as')\n",
      "('is', 'helpful', 'as', 'I')\n",
      "('helpful', 'as', 'I', 'wasn')\n",
      "('as', 'I', 'wasn', 't')\n",
      "('I', 'wasn', 't', 'able')\n",
      "('wasn', 't', 'able', 'to')\n",
      "('t', 'able', 'to', 'find')\n",
      "('able', 'to', 'find', 'an')\n",
      "('to', 'find', 'an', 'easy')\n",
      "('find', 'an', 'easy', 'way')\n",
      "('an', 'easy', 'way', 'to')\n",
      "('easy', 'way', 'to', 'manage')\n",
      "('way', 'to', 'manage', 'Alexa')\n",
      "('to', 'manage', 'Alexa', 'contacts')\n"
     ]
    }
   ],
   "source": [
    "for grams in ngramsres:\n",
    "    print(grams)"
   ]
  },
  {
   "cell_type": "markdown",
   "metadata": {},
   "source": [
    "### BOW"
   ]
  },
  {
   "cell_type": "code",
   "execution_count": 87,
   "metadata": {},
   "outputs": [],
   "source": [
    "from sklearn.feature_extraction.text import CountVectorizer\n",
    "import numpy as np"
   ]
  },
  {
   "cell_type": "code",
   "execution_count": 88,
   "metadata": {},
   "outputs": [],
   "source": [
    "ngram_vectorizer = CountVectorizer(analyzer='char_wb', ngram_range=(2,2), min_df=1)"
   ]
  },
  {
   "cell_type": "code",
   "execution_count": 90,
   "metadata": {},
   "outputs": [],
   "source": [
    "counts = ngram_vectorizer.fit_transform(['words', 'wprds'])"
   ]
  },
  {
   "cell_type": "code",
   "execution_count": 92,
   "metadata": {
    "scrolled": true
   },
   "outputs": [
    {
     "name": "stdout",
     "output_type": "stream",
     "text": [
      "[[1 1 1 0 1 1 1 0]\n",
      " [1 1 0 1 1 1 0 1]]\n"
     ]
    }
   ],
   "source": [
    "ngram_vectorizer.get_feature_names() == (['w', 'ds', 'or', 'pr', 'rd', 's', 'wo', 'wp'])\n",
    "print(counts.toarray().astype(int))"
   ]
  },
  {
   "cell_type": "markdown",
   "metadata": {},
   "source": [
    "# WORD2VEC"
   ]
  },
  {
   "cell_type": "code",
   "execution_count": 100,
   "metadata": {},
   "outputs": [],
   "source": [
    "from gensim import models"
   ]
  },
  {
   "cell_type": "markdown",
   "metadata": {},
   "source": [
    "#### Word2vec 학습시키기"
   ]
  },
  {
   "cell_type": "code",
   "execution_count": 124,
   "metadata": {},
   "outputs": [],
   "source": [
    "# https://github.com/ml5js/training-word2vec"
   ]
  },
  {
   "cell_type": "markdown",
   "metadata": {},
   "source": [
    "### t-SNE로 시각화"
   ]
  },
  {
   "cell_type": "code",
   "execution_count": 116,
   "metadata": {},
   "outputs": [],
   "source": [
    "# https://programmers.co.kr/learn/courses/21/lessons/1698"
   ]
  },
  {
   "cell_type": "markdown",
   "metadata": {},
   "source": [
    "# Clustering"
   ]
  },
  {
   "cell_type": "code",
   "execution_count": null,
   "metadata": {},
   "outputs": [],
   "source": []
  }
 ],
 "metadata": {
  "kernelspec": {
   "display_name": "Python 3",
   "language": "python",
   "name": "python3"
  },
  "language_info": {
   "codemirror_mode": {
    "name": "ipython",
    "version": 3
   },
   "file_extension": ".py",
   "mimetype": "text/x-python",
   "name": "python",
   "nbconvert_exporter": "python",
   "pygments_lexer": "ipython3",
   "version": "3.7.6"
  }
 },
 "nbformat": 4,
 "nbformat_minor": 2
}
