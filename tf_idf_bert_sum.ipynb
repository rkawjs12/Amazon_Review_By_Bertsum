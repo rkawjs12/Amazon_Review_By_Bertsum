{
 "cells": [
  {
   "cell_type": "markdown",
   "metadata": {},
   "source": [
    "# TF-IDF"
   ]
  },
  {
   "cell_type": "code",
   "execution_count": 1,
   "metadata": {},
   "outputs": [],
   "source": [
    "# https://www.kaggle.com/jbencina/clustering-documents-with-tfidf-and-kmeans"
   ]
  },
  {
   "cell_type": "code",
   "execution_count": 15,
   "metadata": {},
   "outputs": [],
   "source": [
    "import numpy as np\n",
    "import pandas as pd\n",
    "import matplotlib.pyplot as plt\n",
    "import matplotlib.cm as cm\n",
    "\n",
    "from sklearn.cluster import MiniBatchKMeans\n",
    "from sklearn.feature_extraction.text import TfidfVectorizer\n",
    "from sklearn.decomposition import PCA\n",
    "from sklearn.manifold import TSNE"
   ]
  },
  {
   "cell_type": "code",
   "execution_count": 3,
   "metadata": {
    "scrolled": false
   },
   "outputs": [
    {
     "data": {
      "text/html": [
       "<div>\n",
       "<style scoped>\n",
       "    .dataframe tbody tr th:only-of-type {\n",
       "        vertical-align: middle;\n",
       "    }\n",
       "\n",
       "    .dataframe tbody tr th {\n",
       "        vertical-align: top;\n",
       "    }\n",
       "\n",
       "    .dataframe thead th {\n",
       "        text-align: right;\n",
       "    }\n",
       "</style>\n",
       "<table border=\"1\" class=\"dataframe\">\n",
       "  <thead>\n",
       "    <tr style=\"text-align: right;\">\n",
       "      <th></th>\n",
       "      <th>contents</th>\n",
       "    </tr>\n",
       "  </thead>\n",
       "  <tbody>\n",
       "    <tr>\n",
       "      <th>0</th>\n",
       "      <td>I've been a happy owner of a 2nd generation Ec...</td>\n",
       "    </tr>\n",
       "    <tr>\n",
       "      <th>1</th>\n",
       "      <td>Sound quality is the best I've heard on a spea...</td>\n",
       "    </tr>\n",
       "    <tr>\n",
       "      <th>2</th>\n",
       "      <td>I cannot say enough about this amazon echo dot...</td>\n",
       "    </tr>\n",
       "    <tr>\n",
       "      <th>3</th>\n",
       "      <td>I had no idea I'd love Alexa so much - I wake ...</td>\n",
       "    </tr>\n",
       "    <tr>\n",
       "      <th>4</th>\n",
       "      <td>I was excited when they said it had a better s...</td>\n",
       "    </tr>\n",
       "  </tbody>\n",
       "</table>\n",
       "</div>"
      ],
      "text/plain": [
       "                                            contents\n",
       "0  I've been a happy owner of a 2nd generation Ec...\n",
       "1  Sound quality is the best I've heard on a spea...\n",
       "2  I cannot say enough about this amazon echo dot...\n",
       "3  I had no idea I'd love Alexa so much - I wake ...\n",
       "4  I was excited when they said it had a better s..."
      ]
     },
     "execution_count": 3,
     "metadata": {},
     "output_type": "execute_result"
    }
   ],
   "source": [
    "data = pd.read_csv(\"data/samsung_galaxynote10.csv\")\n",
    "data.head(5)"
   ]
  },
  {
   "cell_type": "code",
   "execution_count": 4,
   "metadata": {},
   "outputs": [],
   "source": [
    "tfidf = TfidfVectorizer(\n",
    "    min_df = 5,\n",
    "    max_df = 0.95,\n",
    "    max_features = 8000,\n",
    "    stop_words = 'english'\n",
    ")\n",
    "tfidf.fit(data.contents)\n",
    "text = tfidf.transform(data.contents)"
   ]
  },
  {
   "cell_type": "code",
   "execution_count": 6,
   "metadata": {},
   "outputs": [
    {
     "name": "stdout",
     "output_type": "stream",
     "text": [
      "  (0, 322)\t0.040869066775381255\n",
      "  (0, 321)\t0.020434533387690627\n",
      "  (0, 318)\t0.014868325092975372\n",
      "  (0, 316)\t0.03653492716052473\n",
      "  (0, 314)\t0.01961065168401743\n",
      "  (0, 313)\t0.03438989718543917\n",
      "  (0, 311)\t0.020434533387690627\n",
      "  (0, 310)\t0.03438989718543917\n",
      "  (0, 307)\t0.1192746518667242\n",
      "  (0, 306)\t0.017194948592719583\n",
      "  (0, 305)\t0.03540869662768076\n",
      "  (0, 304)\t0.040869066775381255\n",
      "  (0, 303)\t0.047718064137215965\n",
      "  (0, 302)\t0.08818230665030555\n",
      "  (0, 301)\t0.017194948592719583\n",
      "  (0, 300)\t0.014562833275316923\n",
      "  (0, 298)\t0.04282158841648541\n",
      "  (0, 296)\t0.040869066775381255\n",
      "  (0, 294)\t0.16565707482053338\n",
      "  (0, 291)\t0.018896972890173454\n",
      "  (0, 290)\t0.01961065168401743\n",
      "  (0, 289)\t0.01961065168401743\n",
      "  (0, 286)\t0.03181204275814398\n",
      "  (0, 283)\t0.01961065168401743\n",
      "  (0, 282)\t0.020434533387690627\n",
      "  :\t:\n",
      "  (99, 180)\t0.13346552910311354\n",
      "  (99, 179)\t0.14783633696463935\n",
      "  (99, 168)\t0.13346552910311354\n",
      "  (99, 167)\t0.11208595991413849\n",
      "  (99, 165)\t0.1145285895594418\n",
      "  (99, 164)\t0.12611960221302546\n",
      "  (99, 153)\t0.12962538192010675\n",
      "  (99, 150)\t0.23283082266796945\n",
      "  (99, 145)\t0.154047229653254\n",
      "  (99, 143)\t0.12611960221302546\n",
      "  (99, 140)\t0.07026434733256842\n",
      "  (99, 132)\t0.12962538192010675\n",
      "  (99, 124)\t0.11208595991413849\n",
      "  (99, 111)\t0.14783633696463935\n",
      "  (99, 106)\t0.10978298742638061\n",
      "  (99, 93)\t0.13771061486660913\n",
      "  (99, 77)\t0.19216036393186134\n",
      "  (99, 68)\t0.11990870952441082\n",
      "  (99, 61)\t0.13346552910311354\n",
      "  (99, 34)\t0.12611960221302546\n",
      "  (99, 30)\t0.08660096211921327\n",
      "  (99, 26)\t0.1076045623318071\n",
      "  (99, 15)\t0.18689274527947153\n",
      "  (99, 12)\t0.06861958632609969\n",
      "  (99, 10)\t0.12810690928790755\n"
     ]
    }
   ],
   "source": [
    "print(text)"
   ]
  },
  {
   "cell_type": "code",
   "execution_count": 7,
   "metadata": {},
   "outputs": [
    {
     "data": {
      "text/plain": [
       "scipy.sparse.csr.csr_matrix"
      ]
     },
     "execution_count": 7,
     "metadata": {},
     "output_type": "execute_result"
    }
   ],
   "source": [
    "type(text)"
   ]
  },
  {
   "cell_type": "code",
   "execution_count": 9,
   "metadata": {},
   "outputs": [
    {
     "name": "stdout",
     "output_type": "stream",
     "text": [
      "Fit 2 clusters\n",
      "Fit 4 clusters\n",
      "Fit 6 clusters\n",
      "Fit 8 clusters\n"
     ]
    },
    {
     "data": {
      "image/png": "[encoded data removed]",
      "text/plain": [
       "<Figure size 432x288 with 1 Axes>"
      ]
     },
     "metadata": {
      "needs_background": "light"
     },
     "output_type": "display_data"
    }
   ],
   "source": [
    "def find_optimal_clusters(data, max_k):\n",
    "    iters = range(2, max_k+1, 2)\n",
    "    \n",
    "    sse = []\n",
    "    for k in iters:\n",
    "        sse.append(MiniBatchKMeans(n_clusters=k, init_size=1024, batch_size=2048, random_state=20).fit(data).inertia_)\n",
    "        print('Fit {} clusters'.format(k))\n",
    "        \n",
    "    f, ax = plt.subplots(1, 1)\n",
    "    ax.plot(iters, sse, marker='o')\n",
    "    ax.set_xlabel('Cluster Centers')\n",
    "    ax.set_xticks(iters)\n",
    "    ax.set_xticklabels(iters)\n",
    "    ax.set_ylabel('SSE')\n",
    "    ax.set_title('SSE by Cluster Center Plot')\n",
    "    \n",
    "find_optimal_clusters(text, 8)"
   ]
  },
  {
   "cell_type": "code",
   "execution_count": 10,
   "metadata": {},
   "outputs": [],
   "source": [
    "clusters = MiniBatchKMeans(n_clusters=8, init_size=1024, batch_size=2048, random_state=20).fit_predict(text)"
   ]
  },
  {
   "cell_type": "code",
   "execution_count": 11,
   "metadata": {},
   "outputs": [
    {
     "data": {
      "image/png": "[encoded data removed]",
      "text/plain": [
       "<Figure size 1008x432 with 2 Axes>"
      ]
     },
     "metadata": {
      "needs_background": "light"
     },
     "output_type": "display_data"
    }
   ],
   "source": [
    "def plot_tsne_pca(data, labels):\n",
    "    max_label = max(labels)\n",
    "    max_items = np.random.choice(range(data.shape[0]), size=3000, replace=True)\n",
    "    \n",
    "    pca = PCA(n_components=2).fit_transform(data[max_items,:].todense())\n",
    "    tsne = TSNE().fit_transform(PCA(n_components=50).fit_transform(data[max_items,:].todense()))\n",
    "    \n",
    "    \n",
    "    idx = np.random.choice(range(pca.shape[0]), size=300, replace=False)\n",
    "    label_subset = labels[max_items]\n",
    "    label_subset = [cm.hsv(i/max_label) for i in label_subset[idx]]\n",
    "    \n",
    "    f, ax = plt.subplots(1, 2, figsize=(14, 6))\n",
    "    \n",
    "    ax[0].scatter(pca[idx, 0], pca[idx, 1], c=label_subset)\n",
    "    ax[0].set_title('PCA Cluster Plot')\n",
    "    \n",
    "    ax[1].scatter(tsne[idx, 0], tsne[idx, 1], c=label_subset)\n",
    "    ax[1].set_title('TSNE Cluster Plot')\n",
    "    \n",
    "plot_tsne_pca(text, clusters)"
   ]
  },
  {
   "cell_type": "code",
   "execution_count": 12,
   "metadata": {},
   "outputs": [
    {
     "name": "stdout",
     "output_type": "stream",
     "text": [
      "\n",
      "Cluster 0\n",
      "does,playing,change,minutes,respond,happens,sound,music,return,distorted\n",
      "\n",
      "Cluster 1\n",
      "fix,devices,need,i_e,multi,it_,issue,echo,support,device\n",
      "\n",
      "Cluster 2\n",
      "dot,echo,google,skills,alexa,es,para,la,en,que\n",
      "\n",
      "Cluster 3\n",
      "dot,want,buy,device,home,google,app,phone,amazon,alexa\n",
      "\n",
      "Cluster 4\n",
      "home,wifi,voice,commands,like,just,music,play,work,alexa\n",
      "\n",
      "Cluster 5\n",
      "really,time,smart,devices,older,speaker,quality,dot,sound,echo\n",
      "\n",
      "Cluster 6\n",
      "sound,turn,second,echo,voice,fine,light,simple,service,customer\n",
      "\n",
      "Cluster 7\n",
      "usb,better,power,generation,3rd,echo,2nd,sound,dot,gen\n"
     ]
    }
   ],
   "source": [
    "# 최적 하이퍼파라미터 수\n",
    "# kmeans = 8, pca=8\n",
    "\n",
    "def get_top_keywords(data, clusters, labels, n_terms):\n",
    "    df = pd.DataFrame(data.todense()).groupby(clusters).mean()\n",
    "    \n",
    "    for i,r in df.iterrows():\n",
    "        print('\\nCluster {}'.format(i))\n",
    "        print(','.join([labels[t] for t in np.argsort(r)[-n_terms:]]))\n",
    "            \n",
    "get_top_keywords(text, clusters, tfidf.get_feature_names(), 10)"
   ]
  },
  {
   "cell_type": "code",
   "execution_count": null,
   "metadata": {},
   "outputs": [],
   "source": []
  }
 ],
 "metadata": {
  "kernelspec": {
   "display_name": "Python 3",
   "language": "python",
   "name": "python3"
  },
  "language_info": {
   "codemirror_mode": {
    "name": "ipython",
    "version": 3
   },
   "file_extension": ".py",
   "mimetype": "text/x-python",
   "name": "python",
   "nbconvert_exporter": "python",
   "pygments_lexer": "ipython3",
   "version": "3.7.6"
  }
 },
 "nbformat": 4,
 "nbformat_minor": 2
}
